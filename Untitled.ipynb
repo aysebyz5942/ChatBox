{
 "cells": [
  {
   "cell_type": "code",
   "execution_count": 1,
   "id": "8a455072",
   "metadata": {},
   "outputs": [],
   "source": [
    "from nltk.chat.util import Chat, reflections"
   ]
  },
  {
   "cell_type": "code",
   "execution_count": 5,
   "id": "58943e9d",
   "metadata": {},
   "outputs": [
    {
     "name": "stdout",
     "output_type": "stream",
     "text": [
      "{'i am': 'you are', 'i was': 'you were', 'i': 'you', \"i'm\": 'you are', \"i'd\": 'you would', \"i've\": 'you have', \"i'll\": 'you will', 'my': 'your', 'you are': 'I am', 'you were': 'I was', \"you've\": 'I have', \"you'll\": 'I will', 'your': 'my', 'yours': 'mine', 'you': 'me', 'me': 'you'}\n"
     ]
    }
   ],
   "source": [
    "print(reflections) #yansıma olarak kullanacağımmız kelimeler"
   ]
  },
  {
   "cell_type": "code",
   "execution_count": 17,
   "id": "db5f47cb",
   "metadata": {},
   "outputs": [
    {
     "name": "stdout",
     "output_type": "stream",
     "text": [
      ">bugün hava çok güzel\n",
      "bugün hava güzel, bence keyfini çıkarmaya bak\n",
      ">Dün havva çok kötüydü\n",
      "None\n",
      ">bitti\n",
      "None\n"
     ]
    }
   ],
   "source": [
    "ciftler=[\n",
    "    [\"Benim adım (.*)\",[\"merhaba %1, nasılsın?\"]],\n",
    "    ['(merhaba|selam|selamünaleyküm|hey)',['merhaba,nasılsın','Aleykümselam','hey,nasıl gidiyor']],\n",
    "    ['(.*) hava çok (.*)',['%1 hava %2, bence keyfini çıkarmaya bak']],\n",
    "    ['yaşın kaç',['Yaşım yok ama 2021 yılında üretildim']],\n",
    "    ['(.*)(memleket|nerelisin|hangi şehir|hangi ülke)',['Bursa, Türkiye']]\n",
    "]\n",
    "\n",
    "chat=Chat(ciftler,reflections)\n",
    "chat.converse(quit='bitti')"
   ]
  },
  {
   "cell_type": "code",
   "execution_count": 12,
   "id": "4722d380",
   "metadata": {},
   "outputs": [
    {
     "name": "stdout",
     "output_type": "stream",
     "text": [
      "gittin\n"
     ]
    }
   ],
   "source": [
    "yansimalar={\n",
    "    'merhaba':'merhaba,nasılsın',\n",
    "    'gittim':'gittin',\n",
    "    'Selamünaleyküm':'Aleykümselam'\n",
    "}\n",
    "\n",
    "chat=Chat(ciftler,yansimalar)\n",
    "print(chat._substitute(\"gittim\"))"
   ]
  },
  {
   "cell_type": "code",
   "execution_count": null,
   "id": "f512b905",
   "metadata": {},
   "outputs": [],
   "source": []
  }
 ],
 "metadata": {
  "kernelspec": {
   "display_name": "Python 3",
   "language": "python",
   "name": "python3"
  },
  "language_info": {
   "codemirror_mode": {
    "name": "ipython",
    "version": 3
   },
   "file_extension": ".py",
   "mimetype": "text/x-python",
   "name": "python",
   "nbconvert_exporter": "python",
   "pygments_lexer": "ipython3",
   "version": "3.8.8"
  }
 },
 "nbformat": 4,
 "nbformat_minor": 5
}
